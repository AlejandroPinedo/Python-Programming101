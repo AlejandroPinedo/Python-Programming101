{
  "nbformat": 4,
  "nbformat_minor": 0,
  "metadata": {
    "colab": {
      "provenance": [],
      "include_colab_link": true
    },
    "kernelspec": {
      "name": "python3",
      "display_name": "Python 3"
    },
    "language_info": {
      "name": "python"
    }
  },
  "cells": [
    {
      "cell_type": "markdown",
      "metadata": {
        "id": "view-in-github",
        "colab_type": "text"
      },
      "source": [
        "<a href=\"https://colab.research.google.com/github/AlejandroPinedo/Python-Programming101/blob/main/programacion-101/modulo1_fundamentos/tareas/Variables_y_Expresiones.ipynb\" target=\"_parent\"><img src=\"https://colab.research.google.com/assets/colab-badge.svg\" alt=\"Open In Colab\"/></a>"
      ]
    },
    {
      "cell_type": "markdown",
      "source": [
        "<img src=\"https://posgrado.utec.edu.pe/sites/default/files/2023-08/Testimonial-home-2.jpg\" alt=\"HTML5 Icon\" width=\"900\" height=\"250\" >\n"
      ],
      "metadata": {
        "id": "cqadFmlrgAXp"
      }
    },
    {
      "cell_type": "markdown",
      "source": [
        "# **Ejercicios - Variables y Expresiones**"
      ],
      "metadata": {
        "id": "tW1-ULBmb0Cm"
      }
    },
    {
      "cell_type": "markdown",
      "source": [
        "**Ejercicio 1: Calculadora de ahorro semanal**\n",
        "\n",
        "Pide al usuario cuánto dinero ahorra cada día de lunes a domingo. Al final, muestra cuánto ahorró en total esa semana y cuánto tendría en un mes si repite el mismo patrón cada semana.\n",
        "\n",
        "- Pista: Usar 7 variables (ahorro_lunes, ahorro_martes, …), input(), float(), +, *."
      ],
      "metadata": {
        "id": "9igzfvIKqNGr"
      }
    },
    {
      "cell_type": "code",
      "source": [
        "## INICIO DE CÓDIGO\n",
        "\n",
        "#The code is used to calculate the total savings of an entire week and the calculation for a whole month if the saving remain the same.\n",
        "\n",
        "#In this part we will ask for inputs (savings per day)\n",
        "print(\"Enter your daily savings (in Peruvian soles):\")\n",
        "savings_monday = float(input(\"\\tMonday: \"))\n",
        "savings_tuesday = float(input(\"\\tTuesday: \"))\n",
        "savings_wednesday = float(input(\"\\tWednesday: \"))\n",
        "savings_thursday = float(input(\"\\tThursday: \"))\n",
        "savings_friday = float(input(\"\\tFriday: \"))\n",
        "savings_saturday = float(input(\"\\tSaturday: \"))\n",
        "savings_sunday = float(input(\"\\tSunday: \"))\n",
        "\n",
        "#Calculation of the total savings of a week\n",
        "total_savings_week = savings_monday + savings_tuesday + savings_wednesday + savings_thursday + savings_friday + savings_saturday + savings_sunday\n",
        "\n",
        "#Aprox calculation of the total savings of a month\n",
        "total_savings_month = total_savings_week * 4\n",
        "\n",
        "#Output indicating the saving of the current week and the possible savings of a month if the savings remain the same\n",
        "print(f'\\nThis week you raised \\033[4m\\033[1m{total_savings_week}\\033[0m soles in savings\\nAlso if your savings remain the same you will raise \\033[4m\\033[1m{total_savings_month}\\033[0m soles at the end of the month')\n",
        "\n",
        "## FIN DE CÓDIGO"
      ],
      "metadata": {
        "id": "BX-O1-4wqWF9",
        "colab": {
          "base_uri": "https://localhost:8080/"
        },
        "outputId": "5b463aa4-e395-4e32-ce09-bbc73a3b8cc5"
      },
      "execution_count": 1,
      "outputs": [
        {
          "output_type": "stream",
          "name": "stdout",
          "text": [
            "Enter your daily savings (in Peruvian soles):\n",
            "\tMonday: 23\n",
            "\tTuesday: 34\n",
            "\tWednesday: 54\n",
            "\tThursday: 65\n",
            "\tFriday: 76\n",
            "\tSaturday: 79\n",
            "\tSunday: 9\n",
            "\n",
            "This week you raised \u001b[4m\u001b[1m340.0\u001b[0m soles in savings\n",
            "Also if your savings remain the same you will raise \u001b[4m\u001b[1m1360.0\u001b[0m soles at the end of the month\n"
          ]
        }
      ]
    },
    {
      "cell_type": "markdown",
      "source": [
        "**Ejercicio 2: Conversor de segundos**\n",
        "\n",
        "Solicita una cantidad total de segundos y muestra cuántos minutos y segundos representa.\n",
        "\n",
        "Ejemplo: 130 segundos → 2 minutos y 10 segundos\n",
        "* Pista: Usar // y %\n"
      ],
      "metadata": {
        "id": "oLaw6UggqV3E"
      }
    },
    {
      "cell_type": "code",
      "source": [
        "## INICIO DE CÓDIGO\n",
        "\n",
        "#Code to conver an \"n\" quantity of seconds in minutes + seconds\n",
        "\n",
        "#Here we will ask for the quantity of seconds to convert\n",
        "total_seconds = float(input(\"Enter the number of seconds to convert: \"))\n",
        "\n",
        "#In this part we do the calculations:\n",
        "minutes = total_seconds // 60\n",
        "seconds = total_seconds % 60\n",
        "\n",
        "#Now we show the results\n",
        "print(f'\\nYour time is also: \\033[4m\\033[1m{minutes}\\033[0m minutes and \\033[4m\\033[1m{seconds}\\033[0m seconds')\n",
        "\n",
        "\n",
        "## FIN DE CÓDIGO"
      ],
      "metadata": {
        "id": "bAuxBROrqaWb",
        "colab": {
          "base_uri": "https://localhost:8080/"
        },
        "outputId": "d9fe948d-3fae-4c12-c1d2-da0653d6754d"
      },
      "execution_count": 9,
      "outputs": [
        {
          "output_type": "stream",
          "name": "stdout",
          "text": [
            "Enter the number of seconds to convert: 100\n",
            "\n",
            "Your time is also: \u001b[4m\u001b[1m1.0\u001b[0m minutes and \u001b[4m\u001b[1m40.0\u001b[0m seconds\n"
          ]
        }
      ]
    },
    {
      "cell_type": "markdown",
      "source": [
        "**Ejercicio 3: Puntuación de juego**\n",
        "\n",
        "Un videojuego otorga:\n",
        "\n",
        "* 10 puntos por cada estrella recolectada,\n",
        "* 50 puntos por cada gema recolectada, y\n",
        "* 1 punto por cada segundo que el jugador se mantuvo vivo.\n",
        "\n",
        "Pide al usuario las tres cantidades y muestra su puntaje total.\n",
        "\n",
        "* Pista: total = estrellas*10 + gemas*50 + tiempo"
      ],
      "metadata": {
        "id": "dK4EIGoKrW2B"
      }
    },
    {
      "cell_type": "code",
      "source": [
        "## INICIO DE CÓDIGO\n",
        "\n",
        "#Code to calculate the total point of a player in a game\n",
        "\n",
        "#Here we ask for the quantity of stars, gems and total time played in seconds\n",
        "stars = int(input(\"Enter the quantity of stars you collected: \"))\n",
        "gems = int(input(\"Enter the quantity of gems you collected: \"))\n",
        "time = int(input(\"Enter the total time you played in seconds: \"))\n",
        "\n",
        "#In this part we do the calculations:\n",
        "total_points = stars * 10 + gems * 50 + time\n",
        "\n",
        "#Now we show the results\n",
        "print(f'\\nYour total points are: \\033[4m\\033[1m{total_points}\\033[0m points')\n",
        "\n",
        "## FIN DE CÓDIGO"
      ],
      "metadata": {
        "id": "jkBQHQF1rlUY",
        "colab": {
          "base_uri": "https://localhost:8080/"
        },
        "outputId": "1275206d-d89e-42e4-c6cc-244ba985598d"
      },
      "execution_count": 11,
      "outputs": [
        {
          "output_type": "stream",
          "name": "stdout",
          "text": [
            "Enter the quantity of stars you collected: 10\n",
            "Enter the quantity of gems you collected: 2\n",
            "Enter the total time you played in seconds: 123\n",
            "\n",
            "Your total points are: \u001b[4m\u001b[1m323\u001b[0m points\n"
          ]
        }
      ]
    },
    {
      "cell_type": "markdown",
      "source": [
        "**Ejercicio 4: Conversor de monedas con tasa personalizada**\n",
        "\n",
        "Solicita al usuario:\n",
        "\n",
        "* El monto en soles\n",
        "* La tasa de cambio a dólares\n",
        "\n",
        "Muestra el equivalente en dólares, redondeado a 2 decimales.\n",
        "\n",
        "* Pista: Usar float(), *, round(valor, 2)"
      ],
      "metadata": {
        "id": "wW9Edl_8rlt1"
      }
    },
    {
      "cell_type": "code",
      "source": [
        "## INICIO DE CÓDIGO\n",
        "\n",
        "#Code for showing a certain quantity of soles peruanos in dollars\n",
        "\n",
        "#Ask for the amount in soles and the current exchange rate\n",
        "monto_soles = float(input(\"Ingrese el monto en soles: \"))\n",
        "tasa_cambio = float(input(\"Ingrese la tasa de cambio actual (Precio de un dolar en soles peruanos): \"))\n",
        "\n",
        "#Calculate the equivalent\n",
        "monto_dolares = monto_soles / tasa_cambio\n",
        "\n",
        "#Show the result\n",
        "print(f'\\nEl equivalente en dólares es: \\033[4m\\033[1m{round(monto_dolares, 2)}\\033[0m USD')\n",
        "\n",
        "## FIN DE CÓDIGO"
      ],
      "metadata": {
        "id": "fTCsCohHrmQW",
        "colab": {
          "base_uri": "https://localhost:8080/"
        },
        "outputId": "6b56485a-531e-453a-c2f5-d7e712f42067"
      },
      "execution_count": 14,
      "outputs": [
        {
          "output_type": "stream",
          "name": "stdout",
          "text": [
            "Ingrese el monto en soles: 375\n",
            "Ingrese la tasa de cambio actual (Precio de un dolar en soles peruanos): 3.75\n",
            "\n",
            "El equivalente en dólares es: \u001b[4m\u001b[1m100.0\u001b[0m USD\n"
          ]
        }
      ]
    },
    {
      "cell_type": "markdown",
      "source": [
        "**Ejercicio 5: Costo compartido de viaje**\n",
        "\n",
        "Tres amigos hacen un viaje y pagan distintos montos:\n",
        "\n",
        "* Ana pagó gasolina,\n",
        "* Luis pagó peajes,\n",
        "* Carla pagó comida.\n",
        "\n",
        "Pide los tres montos, calcula el total y cuánto debería aportar cada uno para que paguen igual.\n",
        "\n",
        "* Pista: Calcular el total y luego dividirlo entre 3"
      ],
      "metadata": {
        "id": "JYUyJAidrmnT"
      }
    },
    {
      "cell_type": "code",
      "source": [
        "## INICIO DE CÓDIGO\n",
        "\n",
        "#Code to calculate how much each person in a group of three should give on a trip\n",
        "\n",
        "#Ask how much money each person contributed\n",
        "gas = float(input(\"Ingrese el monto que pagó Ana por la gasolina: \"))\n",
        "tolls = float(input(\"Ingrese el monto que pagó Luis por los peajes: \"))\n",
        "food = float(input(\"Ingrese el monto que pagó Carla por la comida: \"))\n",
        "\n",
        "#Calculate the arithmetic mean\n",
        "total = gas + tolls + food\n",
        "each_one = total / 3\n",
        "\n",
        "#Show the result\n",
        "print(f'\\nCada uno debe aportar \\033[4m\\033[1m{round(cada_uno, 2)}\\033[0m soles')\n",
        "\n",
        "#EXTRA STEP: here we show how much each one contributed more or less.\n",
        "ana = round(gas - each_one, 2)\n",
        "luis = round(tolls - each_one, 2)\n",
        "carla = round(food - each_one, 2)\n",
        "#Now we show the results:\n",
        "print(f'\\nTotal balance (If the ammount is negative you owe money, else you overpaid)')\n",
        "print(f'Ana:   \\033[4m\\033[1m{ana}\\033[0m soles')\n",
        "print(f'Luis:  \\033[4m\\033[1m{luis}\\033[0m soles')\n",
        "print(f'Carla: \\033[4m\\033[1m{carla}\\033[0m soles')\n",
        "\n",
        "## FIN DE CÓDIGO"
      ],
      "metadata": {
        "id": "SGjH-m_mrom9",
        "colab": {
          "base_uri": "https://localhost:8080/"
        },
        "outputId": "431a3567-32af-4006-9386-5f9e3f5b4ee2"
      },
      "execution_count": 20,
      "outputs": [
        {
          "output_type": "stream",
          "name": "stdout",
          "text": [
            "Ingrese el monto que pagó Ana por la gasolina: 30\n",
            "Ingrese el monto que pagó Luis por los peajes: 4\n",
            "Ingrese el monto que pagó Carla por la comida: 35\n",
            "\n",
            "Cada uno debe aportar \u001b[4m\u001b[1m40.67\u001b[0m soles\n",
            "\n",
            "Total balance (If the ammount is negative you owe money, else you overpaid)\n",
            "Ana:   \u001b[4m\u001b[1m7.0\u001b[0m soles\n",
            "Luis:  \u001b[4m\u001b[1m-19.0\u001b[0m soles\n",
            "Carla: \u001b[4m\u001b[1m12.0\u001b[0m soles\n"
          ]
        }
      ]
    },
    {
      "cell_type": "markdown",
      "source": [
        "**Ejercicio 6: Tiempo total de estudio**\n",
        "\n",
        "Solicita al usuario cuántas horas estudió en 4 materias distintas.\n",
        "\n",
        "Muestra el total de horas de estudio en la semana y el promedio diario (considerando 7 días).\n"
      ],
      "metadata": {
        "id": "skhBiCaCro5l"
      }
    },
    {
      "cell_type": "code",
      "source": [
        "## INICIO DE CÓDIGO\n",
        "\n",
        "## FIN DE CÓDIGO"
      ],
      "metadata": {
        "id": "HnFuV1RPrqXQ"
      },
      "execution_count": null,
      "outputs": []
    },
    {
      "cell_type": "markdown",
      "source": [
        "**Ejercicio 7: Nombre codificado (nivel string)**\n",
        "\n",
        "Pide al usuario su nombre completo y muestra:\n",
        "\n",
        "* La cantidad de caracteres (con len())\n",
        "* Su nombre todo en mayúsculas (.upper())\n",
        "* Su nombre todo en minúsculas (.lower())\n"
      ],
      "metadata": {
        "id": "rNjtOXKWrqs5"
      }
    },
    {
      "cell_type": "code",
      "source": [
        "## INICIO DE CÓDIGO\n",
        "\n",
        "## FIN DE CÓDIGO"
      ],
      "metadata": {
        "id": "GnGm74GXrsL0"
      },
      "execution_count": null,
      "outputs": []
    },
    {
      "cell_type": "markdown",
      "source": [
        "**Ejercicio 8: Frase repetida**\n",
        "\n",
        "Pide una frase y un número n, y muestra la frase repetida n veces, cada una en una línea.\n",
        "\n",
        "* Pista: print(frase * n)  # y/o con '\\n'"
      ],
      "metadata": {
        "id": "lrhPyjmWrse2"
      }
    },
    {
      "cell_type": "code",
      "source": [
        "## INICIO DE CÓDIGO\n",
        "\n",
        "## FIN DE CÓDIGO"
      ],
      "metadata": {
        "id": "Vzef3t_Lru0p"
      },
      "execution_count": null,
      "outputs": []
    },
    {
      "cell_type": "markdown",
      "source": [
        "**Ejercicio 9: División de cuentas**\n",
        "\n",
        "Un grupo de amigos pide una cuenta por S/ 250.\n",
        "Pide al usuario cuántas personas están en el grupo y muestra cuánto debe pagar cada uno.\n",
        "\n",
        "Asegúrate de redondear el resultado a 2 decimales.\n",
        "\n",
        "* Pista: Usa la funcion round()"
      ],
      "metadata": {
        "id": "5NpbbGR_rvNH"
      }
    },
    {
      "cell_type": "code",
      "source": [
        "## INICIO DE CÓDIGO\n",
        "\n",
        "## FIN DE CÓDIGO"
      ],
      "metadata": {
        "id": "uMxuVCUVrvj6"
      },
      "execution_count": null,
      "outputs": []
    },
    {
      "cell_type": "markdown",
      "source": [
        "**Ejercicio 10: Calendario de clases**\n",
        "\n",
        "Pide cuántas horas se estudia en promedio por día, y cuántos días tiene el mes.\n",
        "\n",
        "Calcula cuántas horas de estudio habrá ese mes."
      ],
      "metadata": {
        "id": "p3PYp0l4pxuI"
      }
    },
    {
      "cell_type": "code",
      "source": [
        "## INICIO DE CÓDIGO\n",
        "\n",
        "## FIN DE CÓDIGO"
      ],
      "metadata": {
        "id": "y1bXFffhrxk2"
      },
      "execution_count": null,
      "outputs": []
    },
    {
      "cell_type": "markdown",
      "source": [
        "---\n",
        "\n",
        "# Gracias por completar este laboratorio!\n",
        "\n",
        "---\n"
      ],
      "metadata": {
        "id": "8_ZocYoOrx3Z"
      }
    }
  ]
}